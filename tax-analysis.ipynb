{
 "cells": [],
 "metadata": {
  "interpreter": {
   "hash": "bb56c409c25d38aa480b0cdae16632c449d54435cb6bf07049ccb7d917b7002a"
  },
  "kernelspec": {
   "display_name": "Python 3.7.13 ('tax_env')",
   "language": "python",
   "name": "python3"
  },
  "language_info": {
   "name": "python",
   "version": "3.7.13"
  },
  "orig_nbformat": 4
 },
 "nbformat": 4,
 "nbformat_minor": 2
}
