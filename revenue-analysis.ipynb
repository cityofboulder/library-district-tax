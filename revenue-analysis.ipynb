{
 "cells": [
  {
   "cell_type": "markdown",
   "metadata": {},
   "source": [
    "# Library District Revenue\n",
    "This analysis estimates the potential revenue that Boulder's proposed library district is expected to produce on a per-parcel basis. All data is open and can be found at the [Boulder County Assessor](https://www.bouldercounty.org/property-and-land/assessor/data-download/), [Boulder County Open Data Portal](https://opendata-bouldercounty.hub.arcgis.com/), and [City of Boulder Open Data Portal](https://open-data.bouldercolorado.gov/). We use open data in this analysis to encourage transparency and enable reproducibility."
   ]
  },
  {
   "cell_type": "code",
   "execution_count": 2,
   "metadata": {},
   "outputs": [],
   "source": [
    "import requests\n",
    "import pandas as pd"
   ]
  }
 ],
 "metadata": {
  "interpreter": {
   "hash": "bb56c409c25d38aa480b0cdae16632c449d54435cb6bf07049ccb7d917b7002a"
  },
  "kernelspec": {
   "display_name": "Python 3.7.13 ('tax_env')",
   "language": "python",
   "name": "python3"
  },
  "language_info": {
   "codemirror_mode": {
    "name": "ipython",
    "version": 3
   },
   "file_extension": ".py",
   "mimetype": "text/x-python",
   "name": "python",
   "nbconvert_exporter": "python",
   "pygments_lexer": "ipython3",
   "version": "3.7.13"
  },
  "orig_nbformat": 4
 },
 "nbformat": 4,
 "nbformat_minor": 2
}
