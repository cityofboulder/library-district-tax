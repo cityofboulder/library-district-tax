{
 "cells": [
  {
   "cell_type": "markdown",
   "metadata": {},
   "source": [
    "# Library District Revenue\n",
    "This analysis estimates the potential revenue that Boulder's proposed library district is expected to produce on a per-parcel basis. All data is open and can be found at the [Boulder County Assessor](https://www.bouldercounty.org/property-and-land/assessor/data-download/), [Boulder County Open Data Portal](https://opendata-bouldercounty.hub.arcgis.com/), and [City of Boulder Open Data Portal](https://open-data.bouldercolorado.gov/). We use open data in this analysis to encourage transparency and enable reproducibility."
   ]
  },
  {
   "cell_type": "code",
   "execution_count": null,
   "metadata": {},
   "outputs": [],
   "source": [
    "from functools import reduce\n",
    "\n",
    "import pandas as pd\n",
    "import numpy as np"
   ]
  },
  {
   "cell_type": "markdown",
   "metadata": {},
   "source": [
    "## Gather Data URLs"
   ]
  },
  {
   "cell_type": "code",
   "execution_count": null,
   "metadata": {},
   "outputs": [],
   "source": [
    "# Assessor's tax information\n",
    "ACCOUNTS_URL = \"https://assessor.boco.solutions/ASR_PublicDataFiles/Account_Parcels.csv\"\n",
    "OWNERS_URL = \"https://assessor.boco.solutions/ASR_PublicDataFiles/Owner_Address.csv\"\n",
    "VALUES_URL = \"https://assessor.boco.solutions/ASR_PublicDataFiles/Values.csv\"\n",
    "\n",
    "# Library district boundary\n",
    "DISTRICT_URL = \"https://maps.bouldercolorado.gov/arcgis/rest/services/general/LibraryDistrict/MapServer/0\"\n",
    "\n",
    "# Boulder county data\n",
    "PARCELS_URL = \"https://maps.bouldercounty.org/arcgis/rest/services/Emap/BOCO_Parcels/MapServer/0\"\n",
    "MUNI_URL = \"https://maps.bouldercounty.org/arcgis/rest/services/PLANNING/LUC_ZoningDistricts_DQMunicipalities/MapServer/0\"\n",
    "FIRE_URL = \"https://maps.bouldercounty.org/arcgis/rest/services/HAZARD/FIRE_WILDFIRE_HISTORY/MapServer/0\""
   ]
  },
  {
   "cell_type": "markdown",
   "metadata": {},
   "source": [
    "## Process Tax Data"
   ]
  },
  {
   "cell_type": "code",
   "execution_count": null,
   "metadata": {},
   "outputs": [],
   "source": [
    "# Simple function to handle csv's from the county\n",
    "def process_csv(src:str, col_map:dict, col_types:dict=None) -> pd.DataFrame:\n",
    "    \"\"\"Process csv data.\n",
    "\n",
    "    Maps old column names to new column names, and optionally specifies\n",
    "    column types to avoid mixed types. It will also drop duplicates once\n",
    "    columns have been remapped.\n",
    "\n",
    "    Parameters\n",
    "    ----------\n",
    "    src : str\n",
    "        csv source, URL or file\n",
    "    col_map : dict\n",
    "        column mapping, where dict keys are old names and values are the\n",
    "        new names.\n",
    "    col_types : dict, optional\n",
    "        column types, by default None\n",
    "\n",
    "    Returns\n",
    "    -------\n",
    "    pd.DataFrame\n",
    "        A pandas dataframe of the csv contents\n",
    "    \"\"\"\n",
    "    df = pd.read_csv(src, usecols=list(col_map.keys()), dtype=col_types)\n",
    "    df.rename(col_map, axis=1, inplace=True)\n",
    "    df.drop_duplicates(inplace=True)\n",
    "    return df\n"
   ]
  },
  {
   "cell_type": "markdown",
   "metadata": {},
   "source": [
    "### Accounts and Parcel Numbers\n",
    "According to the Boulder County Assessor's [data dictionary](https://assets.bouldercounty.org/wp-content/uploads/2017/02/ar-property-data-download-help.pdf), \"The only tables that contain only one row for every active real\n",
    "property account in our database are the Account_Parcels table and the Values table\". This means that, in both the Account_parcels and Values tables, `strap` is never duplicated, and therefore these two tables can be joined 1:1. The Account_Parcels table is dead simple, so no cleaning has to be done."
   ]
  },
  {
   "cell_type": "code",
   "execution_count": null,
   "metadata": {},
   "outputs": [],
   "source": [
    "# Import values\n",
    "col_names = {\"strap\": \"STRAP\", \"Parcelno\": \"PARCELNUM\"}\n",
    "col_types = {\"strap\": str, \"Parcelno\": str}\n",
    "acct_df = process_csv(ACCOUNTS_URL, col_names, col_types)\n"
   ]
  },
  {
   "cell_type": "markdown",
   "metadata": {},
   "source": [
    "### Values\n",
    "Assessed values are calculated by multiplying the total actual value by the tax rate for the property:\n",
    "\n",
    "```\n",
    "(Assessed Value) = (Actual Value) * (Tax Rate)\n",
    "```\n",
    "\n",
    "See this [detailed webpage](https://www.bouldercounty.org/property-and-land/assessor/tax-calculation/) for current and prior tax rates. We rely on the county's calculations for estimating revenue."
   ]
  },
  {
   "cell_type": "code",
   "execution_count": null,
   "metadata": {},
   "outputs": [],
   "source": [
    "# Import values\n",
    "col_names = {\"strap\": \"STRAP\", \"tax_yr\": \"TAXYR\",\n",
    "             \"totalActualVal\": \"ACTUALVAL\", \"totalAssessedVal\": \"ASSESSVAL\"}\n",
    "col_types = {\"strap\": str, \"tax_yr\": str,\n",
    "             \"totalActualVal\": np.int32, \"totalAssessedVal\": np.int32}\n",
    "val_df = process_csv(VALUES_URL, col_names, col_types)\n"
   ]
  },
  {
   "cell_type": "markdown",
   "metadata": {},
   "source": [
    "### Owners and Addresses\n",
    "We would not normally need this table for our analysis, but the county provides mill levy rates and account types here. While each account has one mill levy, it is not the case that every account has only one owner. In other words, one `strap` ID can show up multiple times in this table, either because there are multiple owners for one account (split ownership) or there are multiple situs addresses. For simplicity's sake, if `strap` comes up twice, we always take the first of the bunch.\n",
    "\n",
    "In addition, some owners within the county are confidential and do not appear in this table. We cannot estimate taxes for those properties because the county associates mill levies with owners, not values."
   ]
  },
  {
   "cell_type": "code",
   "execution_count": null,
   "metadata": {},
   "outputs": [],
   "source": [
    "# Import values and drop duplicates\n",
    "col_names = {\"strap\": \"STRAP\", \"mill_levy\": \"MILLLEVY\",\n",
    "             \"account_type\": \"ACCTTYPE\"}\n",
    "col_types = {\"strap\": str, \"mill_levy\": np.float32, \"account_type\": str}\n",
    "own_df = process_csv(OWNERS_URL, col_names, col_types)"
   ]
  },
  {
   "cell_type": "markdown",
   "metadata": {},
   "source": [
    "### Join Tables\n",
    "In their [data dictionary](https://assets.bouldercounty.org/wp-content/uploads/2017/02/ar-property-data-download-help.pdf), the county suggests performing `OUTER JOINS` on either the Accounts and Parcels or Values tables. For this analysis, all tax information will be joined to the Accounts and Parcel Numbers dataframe because that will ultimately be joined to the spatial table for parcels. Everything will be joined on the `STRAP`."
   ]
  },
  {
   "cell_type": "code",
   "execution_count": null,
   "metadata": {},
   "outputs": [],
   "source": [
    "dfs_join_order = [acct_df, val_df, own_df]\n",
    "tax_df = reduce(lambda l, r: pd.merge(l, r, on=[\"STRAP\"], how=\"left\"), dfs_join_order)\n",
    "tax_df.tail(20)"
   ]
  }
 ],
 "metadata": {
  "interpreter": {
   "hash": "bb56c409c25d38aa480b0cdae16632c449d54435cb6bf07049ccb7d917b7002a"
  },
  "kernelspec": {
   "display_name": "Python 3.7.13 ('tax_env')",
   "language": "python",
   "name": "python3"
  },
  "language_info": {
   "codemirror_mode": {
    "name": "ipython",
    "version": 3
   },
   "file_extension": ".py",
   "mimetype": "text/x-python",
   "name": "python",
   "nbconvert_exporter": "python",
   "pygments_lexer": "ipython3",
   "version": "3.7.13"
  },
  "orig_nbformat": 4
 },
 "nbformat": 4,
 "nbformat_minor": 2
}
